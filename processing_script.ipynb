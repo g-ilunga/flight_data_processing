{
 "cells": [
  {
   "cell_type": "markdown",
   "metadata": {},
   "source": [
    "<b><center> Processing a text file containing flight data </b></center>\n",
    "\n",
    "<small> <center>The purpose of this script is to extract flight data from a text file, store it to Excel format and creating a KML file to visualize the itinerary\n",
    "\n",
    "This method was developped based on the text file structure"
   ]
  },
  {
   "cell_type": "markdown",
   "metadata": {},
   "source": [
    "<b> 1. Importing relevant libraries"
   ]
  },
  {
   "cell_type": "code",
   "execution_count": null,
   "metadata": {},
   "outputs": [],
   "source": [
    "import pandas as pd\n",
    "\n",
    "import simplekml # To create a KML file"
   ]
  },
  {
   "cell_type": "markdown",
   "metadata": {},
   "source": [
    "<b> 2. Opening the text file"
   ]
  },
  {
   "cell_type": "code",
   "execution_count": null,
   "metadata": {},
   "outputs": [],
   "source": [
    "\n",
    "thefile = open(\"C:/Users/ilung/Downloads/flight_data.txt\", \"r\") # this line loads the text file\n",
    "\n",
    "data = thefile.read() # This line is to read the text file that was loaded"
   ]
  },
  {
   "cell_type": "markdown",
   "metadata": {},
   "source": [
    "<b> 3. Preparing the text file for its conversion to a dataframe </b>\n",
    "\n",
    "<small> After carefully looking at the text file content, we chose the option to convert it to a list. Each line of the text file will become an element of the newly created list"
   ]
  },
  {
   "cell_type": "code",
   "execution_count": null,
   "metadata": {},
   "outputs": [],
   "source": [
    "data_into_list = data.split(\"\\n\") # this line convert the text file into a list\n",
    "\n",
    "data_into_list = [x.replace (\" \", \"\") for x in data_into_list] # deleting empty spaces from every element of the list to facilitate further processing"
   ]
  },
  {
   "cell_type": "markdown",
   "metadata": {},
   "source": [
    "<small> The text file contains 3 set of data: \"altitude\", \"GPS coordinates\" and \"height above takeoff\". Each associated with a timestamp. \n",
    "\n",
    "We will now proceed to determine the position where each of these dataset start. This will help us creating sublist of each dataset."
   ]
  },
  {
   "cell_type": "code",
   "execution_count": null,
   "metadata": {},
   "outputs": [],
   "source": [
    "index_alt = data_into_list.index('\"altitude\":{') # this line will help us to determine line where altitude related data begin\n",
    "\n",
    "index_gps = data_into_list.index('\"gps\":{') # this line will help us to determine line where GPS related data begin\n",
    "\n",
    "index_height = data_into_list.index('\"height_above_takeoff\":{') # this line will help us to determine line where \"height above takeoff\" related data begin"
   ]
  },
  {
   "cell_type": "markdown",
   "metadata": {},
   "source": [
    "<small> Creating sublist for altitude, GPS and \"height above takeoff\" related data"
   ]
  },
  {
   "cell_type": "code",
   "execution_count": null,
   "metadata": {},
   "outputs": [],
   "source": [
    "altitude = data_into_list[index_alt:index_gps] # Creating a sublist containing altitude related data\n",
    "\n",
    "gps = data_into_list[index_gps:index_height] # Creating a sublist containing GPS related data\n",
    "\n",
    "height = data_into_list[index_height:] # Creating a sublist containing \"height above takeoff\" related data"
   ]
  },
  {
   "cell_type": "markdown",
   "metadata": {},
   "source": [
    "<b> 4. Creating dataframes and saving them into Excel </b>\n",
    "\n",
    "<small> We now proceed to create individual dataframes for each dataset using the previously created sublists"
   ]
  },
  {
   "cell_type": "code",
   "execution_count": null,
   "metadata": {},
   "outputs": [],
   "source": [
    "# For altitude\n",
    "\n",
    "alt_data = altitude[2:339]\n",
    "\n",
    "alt_timestamps = altitude[341:677]\n",
    "\n",
    "alt_timestamps = [s.replace('\"', '') for s in alt_timestamps]\n",
    "\n",
    "alt_timestamps = [s.replace(',', '') for s in alt_timestamps]\n",
    "\n",
    "df_altitude = pd.DataFrame(zip(alt_timestamps, alt_data), columns = [\"Timestamps\", \"Altitude\"])"
   ]
  },
  {
   "cell_type": "code",
   "execution_count": null,
   "metadata": {},
   "outputs": [],
   "source": [
    "# For GPS\n",
    "\n",
    "gps_coord = gps[3:1351]\n",
    "\n",
    "gps_coord = [s.replace(\",\", \"\") for s in gps_coord]\n",
    "\n",
    "while \"]\" in gps_coord:\n",
    "    gps_coord.remove(\"]\")\n",
    "\n",
    "while \"[\" in gps_coord:\n",
    "    gps_coord.remove(\"[\")\n",
    "\n",
    "gps_lat  = gps_coord[::2]\n",
    "\n",
    "gps_lon = gps_coord[1::2]\n",
    "\n",
    "\n",
    "gps_timestamps = gps[1351:]\n",
    "\n",
    "del gps_timestamps [0]\n",
    "\n",
    "gps_timestamps = [s.replace('\"', '') for s in gps_timestamps]\n",
    "\n",
    "gps_timestamps = [s.replace(',', '') for s in gps_timestamps]\n",
    "\n",
    "df_gps = pd.DataFrame(zip(gps_lat, gps_lon, gps_timestamps), columns = [\"Latitude\", \"Longitude\", \"Timestamps\"])"
   ]
  },
  {
   "cell_type": "code",
   "execution_count": null,
   "metadata": {},
   "outputs": [],
   "source": [
    "# For height_above_takeoff\n",
    "\n",
    "height_data = height[2:307]\n",
    "\n",
    "height_data = [s.replace(',', '') for s in height_data]\n",
    "\n",
    "\n",
    "height_timestamps = height[309:615]\n",
    "\n",
    "height_timestamps = [s.replace('\"', '') for s in height_timestamps]\n",
    "\n",
    "height_timestamps = [s.replace(',', '') for s in height_timestamps]\n",
    "\n",
    "\n",
    "df_height = pd.DataFrame(zip(height_timestamps, height_data), columns = [\"Timestamps\", \"Height\"])"
   ]
  },
  {
   "cell_type": "markdown",
   "metadata": {},
   "source": [
    "<small> Here we will save the created dataframes into an Excel file, with each dataframe being in a separate sheet"
   ]
  },
  {
   "cell_type": "code",
   "execution_count": null,
   "metadata": {},
   "outputs": [],
   "source": [
    "# Saving the dataframes into different sheet of the same Excel file\n",
    "\n",
    "writer = pd.ExcelWriter(\"C:/Users/ilung/Downloads/flight_data.xlsx\")\n",
    "\n",
    "df_altitude.to_excel(writer, sheet_name='Sheet1', index= False)\n",
    "\n",
    "df_gps.to_excel(writer, sheet_name='Sheet2', index= False)\n",
    "\n",
    "df_height.to_excel(writer, sheet_name='Sheet3', index= False)\n",
    "\n",
    "writer.save()"
   ]
  },
  {
   "cell_type": "markdown",
   "metadata": {},
   "source": [
    "<b> 5. Creating the KML file from the Excel file"
   ]
  },
  {
   "cell_type": "code",
   "execution_count": null,
   "metadata": {},
   "outputs": [],
   "source": [
    "# Read the Excel file into a Pandas DataFrame\n",
    "\n",
    "df = pd.read_excel(\"C:/Users/ilung/Downloads/flight_data.xlsx\", sheet_name = \"Sheet2\")"
   ]
  },
  {
   "cell_type": "code",
   "execution_count": null,
   "metadata": {},
   "outputs": [],
   "source": [
    "# Generating a list of coordinates to produce the line\n",
    "\n",
    "i = 0\n",
    "\n",
    "coords = []\n",
    "\n",
    "while i < 337:\n",
    "\n",
    "    lat = df.iloc[i, 0]\n",
    "\n",
    "    long = df.iloc[i,1]\n",
    "\n",
    "    point = (lat, long)\n",
    "\n",
    "    coords.append(point)\n",
    "\n",
    "    i = i+1"
   ]
  },
  {
   "cell_type": "code",
   "execution_count": null,
   "metadata": {},
   "outputs": [],
   "source": [
    "# Create a KML object\n",
    "kml = simplekml.Kml()\n",
    "\n",
    "# Creating a line from the coordinate\n",
    "lin = kml.newlinestring(name= \"Pathway\", description=\"Flight itinerary\",\n",
    "                        coords = coords)\n",
    "\n",
    "kml.save(\"C:/Users/ilung/Downloads/flight itinerary.kml\")"
   ]
  }
 ],
 "metadata": {
  "kernelspec": {
   "display_name": "python39",
   "language": "python",
   "name": "python3"
  },
  "language_info": {
   "codemirror_mode": {
    "name": "ipython",
    "version": 3
   },
   "file_extension": ".py",
   "mimetype": "text/x-python",
   "name": "python",
   "nbconvert_exporter": "python",
   "pygments_lexer": "ipython3",
   "version": "3.9.17"
  }
 },
 "nbformat": 4,
 "nbformat_minor": 2
}
